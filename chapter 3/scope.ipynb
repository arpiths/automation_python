{
 "cells": [
  {
   "cell_type": "markdown",
   "metadata": {},
   "source": [
    "# global and local scope"
   ]
  },
  {
   "cell_type": "markdown",
   "metadata": {},
   "source": [
    "Parameters and variables that are assigned in a called function are said to exist in that function’s local scope. Variables that are assigned outside all  functions are said to exist in the global scope. A variable that exists in a local scope is called a local variable, while a variable that exists in the global scope is called a global variable"
   ]
  },
  {
   "cell_type": "markdown",
   "metadata": {},
   "source": [
    "\n",
    "Scopes matter for several reasons:\n",
    "\n",
    "•\t Code in the global scope, outside of all functions, cannot use any\n",
    "local variables.\n",
    "\n",
    "•\t However, code in a local scope can access global variables.\n",
    "\n",
    "•\t Code in a function’s local scope cannot use variables in any other\n",
    "local scope.\n",
    "\n",
    "•\t You can use the same name for different variables if they are in different scopes. That is, there can be a local variable named spam and\n",
    "a global variable also named spam"
   ]
  },
  {
   "cell_type": "markdown",
   "metadata": {},
   "source": [
    "###  1 Local Variables Cannot Be Used in the Global Scope\n",
    "### 2 Local Scopes Cannot Use Variables in Other Local Scopes"
   ]
  },
  {
   "cell_type": "markdown",
   "metadata": {},
   "source": [
    "### 3 Global Variables Can Be Read from a Local Scope"
   ]
  },
  {
   "cell_type": "code",
   "execution_count": 1,
   "metadata": {},
   "outputs": [
    {
     "name": "stdout",
     "output_type": "stream",
     "text": [
      "ssup\n",
      "no ssup\n",
      "ssup\n"
     ]
    }
   ],
   "source": [
    "def spam():\n",
    "    print(glob_var)\n",
    "\n",
    "glob_var = \"ssup\"\n",
    "spam()\n",
    "\n",
    "def spam1():\n",
    "    glob_var1 = \"no ssup\"\n",
    "    print(glob_var1)\n",
    "\n",
    "glob_var1 = \"ssup\"\n",
    "spam1()\n",
    "print(glob_var1)"
   ]
  },
  {
   "cell_type": "markdown",
   "metadata": {},
   "source": [
    "###  to modify a global variable from within a function, use the global statement"
   ]
  },
  {
   "cell_type": "code",
   "execution_count": 2,
   "metadata": {},
   "outputs": [
    {
     "name": "stdout",
     "output_type": "stream",
     "text": [
      "glob\n",
      "glob\n"
     ]
    }
   ],
   "source": [
    "def spam2():\n",
    "    global glob_var2 \n",
    "    glob_var2= \"glob\"\n",
    "    print(glob_var2)\n",
    "\n",
    "glob_var2 = \"ssup\"\n",
    "spam2()\n",
    "print(glob_var2)"
   ]
  },
  {
   "cell_type": "markdown",
   "metadata": {},
   "source": []
  }
 ],
 "metadata": {
  "kernelspec": {
   "display_name": "Python 3.9.7 ('pyenvs')",
   "language": "python",
   "name": "python3"
  },
  "language_info": {
   "codemirror_mode": {
    "name": "ipython",
    "version": 3
   },
   "file_extension": ".py",
   "mimetype": "text/x-python",
   "name": "python",
   "nbconvert_exporter": "python",
   "pygments_lexer": "ipython3",
   "version": "3.9.7"
  },
  "orig_nbformat": 4,
  "vscode": {
   "interpreter": {
    "hash": "d392ca697b4db94b22fe7ae4154d12cd02583e9b016d9ad23cd1642b16239c4f"
   }
  }
 },
 "nbformat": 4,
 "nbformat_minor": 2
}
